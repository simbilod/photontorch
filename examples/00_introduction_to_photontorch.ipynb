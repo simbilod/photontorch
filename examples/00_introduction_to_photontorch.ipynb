{
 "cells": [
  {
   "cell_type": "markdown",
   "metadata": {},
   "source": [
    "# A Brief Introduction to Photontorch"
   ]
  },
  {
   "cell_type": "markdown",
   "metadata": {},
   "source": [
    "## Imports"
   ]
  },
  {
   "cell_type": "code",
   "execution_count": 3,
   "metadata": {},
   "outputs": [],
   "source": [
    "%matplotlib inline\n",
    "import torch\n",
    "import numpy as np\n",
    "import matplotlib.pyplot as plt\n",
    "import photontorch as pt"
   ]
  },
  {
   "cell_type": "markdown",
   "metadata": {},
   "source": [
    "## Networks and Circuits"
   ]
  },
  {
   "cell_type": "markdown",
   "metadata": {},
   "source": [
    "Networks are the core of Photontorch. Custom networks can easily be created by subclassing `pt.Network`. First, all network subcomponents are defined as attributes of the network, after which the ports of the subcomponents can be linked together with the `link` method of `pt.Network`.\n",
    "\n",
    "The `link` method takes an arbitrary number of string arguments. Each argument contains the component name together with a port number in front of and a port number behind the name (e.g. `\"0:wg:1\"`). The port number behind the name will connect to the port number in front of the next name. The first component does not need a port number in front of it, while the last component does not need a port number behind.\n",
    "\n",
    "Let's start by creating an all-pass filter."
   ]
  },
  {
   "cell_type": "markdown",
   "metadata": {},
   "source": [
    "<img src=\"data:image/png;base64,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\" width=\"300\">"
   ]
  },
  {
   "cell_type": "code",
   "execution_count": 4,
   "metadata": {},
   "outputs": [
    {
     "name": "stdout",
     "output_type": "stream",
     "text": [
      "tensor([0, 1])\n"
     ]
    }
   ],
   "source": [
    "class AllPass(pt.Network):\n",
    "    def __init__(self, length=1e-5, neff=2.34, ng=3.4, loss=1000):\n",
    "        super(AllPass, self).__init__() # always initialize first\n",
    "        self.wg1 = pt.Waveguide(length=length, neff=neff, ng=ng, loss=loss, trainable=True)\n",
    "        self.dc1 = pt.DirectionalCoupler(coupling=0.3, trainable=True)\n",
    "        self.link(\"dc1:2\", \"0:wg1:1\", \"3:dc1\")\n",
    "        \n",
    "# see if the network is terminated\n",
    "print(torch.where(AllPass().free_ports_at)[0])"
   ]
  },
  {
   "cell_type": "markdown",
   "metadata": {},
   "source": [
    "Here a link was created where port 2 of the directional coupler was connected with port 0 of the waveguide and port 1 of the waveguide was connected with port 3 of the directional coupler. The port order of each component can be found in its docstring."
   ]
  },
  {
   "cell_type": "markdown",
   "metadata": {},
   "source": [
    "During the definition of the subcomponents, the `trainable` flag was set to `True` for the directional coupler and the waveguide. This is a flag that makes the parameters of the waveguide and the directional coupler optimizable with gradient descent and has no effect on the simulation itself."
   ]
  },
  {
   "cell_type": "markdown",
   "metadata": {},
   "source": [
    "A network is called *terminated* if no open ports are left. The network defined above is not terminated as it has two free indices left: `0` and `1`, which are respectively port 0 and port 1 of the directional coupler. A source and a detector (each components with a single port) can for example be added to terminate the network and form a closed circuit:"
   ]
  },
  {
   "cell_type": "code",
   "execution_count": 5,
   "metadata": {},
   "outputs": [
    {
     "name": "stdout",
     "output_type": "stream",
     "text": [
      "tensor([], dtype=torch.int64)\n"
     ]
    }
   ],
   "source": [
    "class Circuit(pt.Network):\n",
    "    def __init__(self, length=1e-5, neff=2.34, ng=3.4, loss=1000):\n",
    "        super(Circuit, self).__init__()\n",
    "        self.allpass = AllPass(length, neff, ng, loss)\n",
    "        self.source = pt.Source()\n",
    "        self.detector = pt.Detector()\n",
    "        \n",
    "        # note that you link with the allpass circuit as if it was\n",
    "        # a single component. You do not link with the subcomponents\n",
    "        # of the allpass component!\n",
    "        self.link(\"source:0\", \"0:allpass:1\", \"0:detector\")\n",
    "\n",
    "# see if the network is terminated\n",
    "print(torch.where(Circuit().free_ports_at)[0])"
   ]
  },
  {
   "cell_type": "markdown",
   "metadata": {},
   "source": [
    "## Simulations"
   ]
  },
  {
   "cell_type": "markdown",
   "metadata": {},
   "source": [
    "To start doing simulations, one first has to create an instance of the ciruit to simulate:"
   ]
  },
  {
   "cell_type": "code",
   "execution_count": null,
   "metadata": {},
   "outputs": [],
   "source": [
    "circuit = Circuit(length=1.2e-5, neff=2.84, ng=3.2, loss=3e4)"
   ]
  },
  {
   "cell_type": "markdown",
   "metadata": {},
   "source": [
    "Photontorch supports time and frequency domain simulations. All the simulation parameters, i.e. the simulation environment, are set with a context-manager (`with`-block). Below an example on how to do a frequency-domain simulation on the Allpass filter defined above:"
   ]
  },
  {
   "cell_type": "code",
   "execution_count": null,
   "metadata": {},
   "outputs": [],
   "source": [
    "# create simulation environment\n",
    "freq_env = pt.Environment(\n",
    "    wl=1e-6*np.linspace(1.45, 1.65, 1000),\n",
    "    freqdomain=True\n",
    ")\n",
    "\n",
    "with freq_env:\n",
    "    # perform simulation\n",
    "    detected = circuit(source=1) # constant source with amplitude 1\n",
    "    \n",
    "    # plot detected power\n",
    "    circuit.plot(detected);\n",
    "    plt.show()"
   ]
  },
  {
   "cell_type": "markdown",
   "metadata": {},
   "source": [
    "Time domain simulations are just as easily done:"
   ]
  },
  {
   "cell_type": "code",
   "execution_count": null,
   "metadata": {},
   "outputs": [],
   "source": [
    "# create simulation environment\n",
    "env = pt.Environment(dt=1e-15, t1=2.5e-12, wl=1.55e-6)\n",
    "\n",
    "# create time-dependent source\n",
    "single_source = torch.tensor(np.sin(env.time*5e13), dtype=torch.float32, names=[\"t\"]) # lower dimensional source should have named dimensions.\n",
    "\n",
    "with env:\n",
    "    # perform simulation\n",
    "    detected = circuit(source=single_source)\n",
    "\n",
    "    # plot detected power\n",
    "    circuit.plot(detected);\n",
    "    plt.show()"
   ]
  },
  {
   "cell_type": "markdown",
   "metadata": {},
   "source": [
    "Two independent simulations can also be batched together. Each different source function which will then propagate through the circuit in parallel (but independent of each other). This is a very efficient way of doing multiple simulations at once. It can also be used in the optimization phase for more stable training."
   ]
  },
  {
   "cell_type": "code",
   "execution_count": null,
   "metadata": {},
   "outputs": [],
   "source": [
    "# create time-dependent source\n",
    "double_source = torch.tensor(np.stack([\n",
    "    np.cos(env.time*2.5e13),\n",
    "    np.sin(env.time*5e13),\n",
    "], -1), dtype=torch.float32, names=[\"t\", \"b\"]) # t: time dimension; b: batch dimension.\n",
    "\n",
    "with env:\n",
    "    detected = circuit(source=double_source)\n",
    "    circuit.plot(detected);\n",
    "    plt.show()"
   ]
  },
  {
   "cell_type": "markdown",
   "metadata": {},
   "source": [
    "One can also simulate multiple wavelengths at the same time, just by changing the simulation environment a little bit."
   ]
  },
  {
   "cell_type": "code",
   "execution_count": null,
   "metadata": {},
   "outputs": [],
   "source": [
    "with env.copy(wl=[1.545e-6, 1.55e-6, 1.56e-6]):\n",
    "    detected = circuit(source=1) # constant source with amplitude 1\n",
    "    circuit.plot(detected);\n",
    "    plt.show()"
   ]
  },
  {
   "cell_type": "markdown",
   "metadata": {},
   "source": [
    "## Optimization and Training"
   ]
  },
  {
   "cell_type": "markdown",
   "metadata": {},
   "source": [
    "The optimizable parameters of a network can be printed out (just like in PyTorch):"
   ]
  },
  {
   "cell_type": "code",
   "execution_count": null,
   "metadata": {},
   "outputs": [],
   "source": [
    "for p in circuit.parameters():\n",
    "    print(p)"
   ]
  },
  {
   "cell_type": "markdown",
   "metadata": {},
   "source": [
    "In this case, the circuit has two parameters corresponding to an additional phase factor in the ring and the coupling coefficient of the directional coupler respectively. These two parameters can be optimized to make the network approximate a particular target. For this, native [PyTorch optimizers](https://pytorch.org/docs/stable/optim.html) can be used. \n",
    "\n",
    "Let's try to shift the resonance in the ring from 1550nm to 1525 nm while simulataneously making the transmission as low as possible by just optimizing these two parameters:"
   ]
  },
  {
   "cell_type": "code",
   "execution_count": null,
   "metadata": {},
   "outputs": [],
   "source": [
    "# define simualation environment\n",
    "train_env = pt.Environment(\n",
    "    wl=1525e-9, # we want minimal transmission at this wavelength\n",
    "    freqdomain=True, # we will do frequency domain simulations\n",
    "    grad=True, # gradient need to be tracked in order to use gradient descent.\n",
    ")\n",
    "\n",
    "# define target for the simulation, lets take 0 (ideally no transmission at resonance)\n",
    "target = 0\n",
    "\n",
    "# let's define an optimizer.\n",
    "# The Adam optimizer is generally considered to be the best\n",
    "# gradient descent optimizer out there:\n",
    "optimizer = torch.optim.Adam(circuit.parameters(), lr=0.1)\n",
    "\n",
    "# do the training\n",
    "with train_env:\n",
    "    for epoch in range(100):\n",
    "        optimizer.zero_grad() # reset the optimizer and gradients\n",
    "        detected = circuit(source=1) # simulate\n",
    "        loss = ((detected-target)**2).mean() # calculate mse loss\n",
    "        loss.backward() # calculate the gradients on the parameters\n",
    "        optimizer.step() # update the parameters according to the gradients\n",
    "        \n",
    "# view result\n",
    "with freq_env:\n",
    "    detected = circuit(source=1) # constant source with amplitude 1\n",
    "    circuit.plot(detected);\n",
    "    plt.show()\n",
    "\n",
    "# print parameters\n",
    "for p in circuit.parameters():\n",
    "    print(p)"
   ]
  },
  {
   "cell_type": "markdown",
   "metadata": {},
   "source": [
    "A shift in resonance can be seen while the transmission at resonance is also clearly lower (approaching zero) than before."
   ]
  },
  {
   "cell_type": "markdown",
   "metadata": {},
   "source": [
    "## Defining custom components"
   ]
  },
  {
   "cell_type": "markdown",
   "metadata": {},
   "source": [
    "Components are the building blocks of Photontorch. Photontorch has a growing number of default components available, it is however reasonably easy to define your own components.\n",
    "\n",
    "Below an example on how one can define a directional coupler. A component with 4 ports and two parameters: $\\tau$ the transmission and $\\kappa$ the coupling between the arms."
   ]
  },
  {
   "cell_type": "code",
   "execution_count": null,
   "metadata": {},
   "outputs": [],
   "source": [
    "from torch.nn import Parameter\n",
    "from photontorch import Component\n",
    "\n",
    "class DirectionalCoupler(Component):\n",
    "    num_ports = 4 # this class variable always needs to be defined\n",
    "    def __init__(self, tau=np.sqrt(0.5), kappa=np.sqrt(0.5)):\n",
    "        super(DirectionalCoupler, self).__init__()\n",
    "        self.tau = Parameter(torch.tensor(tau))\n",
    "        self.kappa = Parameter(torch.tensor(kappa))"
   ]
  },
  {
   "cell_type": "markdown",
   "metadata": {},
   "source": [
    "This was reasonably easy. However, the S-matrix still has to be defined. A directional coupler with the following port order\n",
    "```\n",
    "3    2\n",
    " \\__/\n",
    " /‾‾\\\n",
    "0    1\n",
    "```\n",
    "has an [S-matrix]( https://en.wikipedia.org/wiki/Power_dividers_and_directional_couplers#S-parameters) that looks as follows:\n",
    "\\begin{align*}\n",
    "S &= \\begin{pmatrix}\n",
    "0 & \\tau & i\\kappa & 0 \\\\\n",
    "\\tau & 0 & 0 & i\\kappa \\\\\n",
    "i\\kappa & 0 & 0 & \\tau \\\\\n",
    "0 & i\\kappa & \\tau & 0\n",
    "\\end{pmatrix}.\n",
    "\\end{align*}\n",
    "\n",
    "This S-matrix thus essentially links ports (0,1) and ports (2,3) with a transmission $\\tau$, while the links (0,2) and (1,3) are characterized with a coupling $\\kappa$.\n",
    "\n",
    "The S-matrix can be defined by defining the method `set_S` of the `DirectionalCoupler` component. This method takes one argument: the empty (all-zero) S-matrix `S` which needs to be filled with elements by that method. The method itself does not return anything.\n",
    "\n",
    "However, there is a catch. One cannot just put these S-matrix elements into the `S`-tensor. First of all, the S-matrix needs to be defined for all wavelengths of the simulation. Therefore, the S-matrix has an extra dimension  to fill different `S`-elements for different wavelengths. The wavelength information can be obtained for the simulation environment, which is saved in the component as `self.env`. \n",
    "Secondly, PyTorch does not support complex tensors, therefore the `S` tensor to fill with elements is split into a real and imaginary part, such that the total shape of `S` is:\n",
    "```\n",
    "    (2, # wavelengths, # ports, # ports)\n",
    "```\n",
    "the `set_S` method can thus be written as follows:"
   ]
  },
  {
   "cell_type": "code",
   "execution_count": null,
   "metadata": {},
   "outputs": [],
   "source": [
    "class DirectionalCoupler(Component):\n",
    "    # ... [initialization]\n",
    "    def set_S(self, S):\n",
    "        # this won't be used here, but this is how to get the\n",
    "        # wavelengths (and if necessary other information)\n",
    "        # from the simulation environment to be able to calculate\n",
    "        # the appropriate S-matrix elements.\n",
    "        wls = self.env.wavelength\n",
    "        \n",
    "        # real part scattering matrix (transmission):\n",
    "        # (same transmission for all wavelengths)\n",
    "        S[0, :, 0, 1] = S[0, :, 1, 0] = self.tau\n",
    "        S[0, :, 2, 3] = S[0, :, 3, 2] = self.tau\n",
    "\n",
    "        # imag part scattering matrix (coupling):\n",
    "        # (same transmission for all wavelengths)\n",
    "        S[1, :, 0, 2] = S[1, :, 2, 0] = self.kappa\n",
    "        S[1, :, 1, 3] = S[1, :, 3, 1] = self.kappa"
   ]
  }
 ],
 "metadata": {
  "kernelspec": {
   "display_name": "pytorch",
   "language": "python",
   "name": "pytorch"
  },
  "language_info": {
   "codemirror_mode": {
    "name": "ipython",
    "version": 3
   },
   "file_extension": ".py",
   "mimetype": "text/x-python",
   "name": "python",
   "nbconvert_exporter": "python",
   "pygments_lexer": "ipython3",
   "version": "3.7.7"
  }
 },
 "nbformat": 4,
 "nbformat_minor": 4
}
